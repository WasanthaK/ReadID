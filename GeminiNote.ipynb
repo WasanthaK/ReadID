{
 "cells": [
  {
   "cell_type": "code",
   "execution_count": 1,
   "metadata": {},
   "outputs": [
    {
     "name": "stderr",
     "output_type": "stream",
     "text": [
      "c:\\Users\\User\\geminitest\\venv\\Lib\\site-packages\\tqdm\\auto.py:21: TqdmWarning: IProgress not found. Please update jupyter and ipywidgets. See https://ipywidgets.readthedocs.io/en/stable/user_install.html\n",
      "  from .autonotebook import tqdm as notebook_tqdm\n"
     ]
    }
   ],
   "source": [
    "import textwrap\n",
    "import google.generativeai as genai\n",
    "import os\n",
    "from dotenv import load_dotenv\n",
    "from IPython.display import display, Markdown"
   ]
  },
  {
   "cell_type": "code",
   "execution_count": 2,
   "metadata": {},
   "outputs": [],
   "source": [
    "def to_markdown(text):\n",
    "    text = text.replace('•', '  *')\n",
    "    return Markdown(textwrap.indent(text, '> ', predicate=lambda _: True))"
   ]
  },
  {
   "cell_type": "code",
   "execution_count": 3,
   "metadata": {},
   "outputs": [],
   "source": [
    "load_dotenv()\n",
    "GOOGLE_API_KEY = os.getenv('GOOGLE_API_KEY')\n",
    "genai.configure(api_key=GOOGLE_API_KEY)"
   ]
  },
  {
   "cell_type": "code",
   "execution_count": 4,
   "metadata": {},
   "outputs": [
    {
     "name": "stdout",
     "output_type": "stream",
     "text": [
      "models/gemini-1.0-pro-latest\n",
      "models/gemini-1.0-pro\n",
      "models/gemini-pro\n",
      "models/gemini-1.0-pro-001\n",
      "models/gemini-1.0-pro-vision-latest\n",
      "models/gemini-pro-vision\n",
      "models/gemini-1.5-pro-latest\n",
      "models/gemini-1.5-pro-001\n",
      "models/gemini-1.5-pro-002\n",
      "models/gemini-1.5-pro\n",
      "models/gemini-1.5-pro-exp-0801\n",
      "models/gemini-1.5-pro-exp-0827\n",
      "models/gemini-1.5-flash-latest\n",
      "models/gemini-1.5-flash-001\n",
      "models/gemini-1.5-flash-001-tuning\n",
      "models/gemini-1.5-flash\n",
      "models/gemini-1.5-flash-exp-0827\n",
      "models/gemini-1.5-flash-002\n",
      "models/gemini-1.5-flash-8b\n",
      "models/gemini-1.5-flash-8b-001\n",
      "models/gemini-1.5-flash-8b-latest\n",
      "models/gemini-1.5-flash-8b-exp-0827\n",
      "models/gemini-1.5-flash-8b-exp-0924\n"
     ]
    }
   ],
   "source": [
    "for model in genai.list_models():\n",
    "    if 'generateContent' in model.supported_generation_methods:\n",
    "        print(model.name)"
   ]
  },
  {
   "cell_type": "code",
   "execution_count": 5,
   "metadata": {},
   "outputs": [],
   "source": [
    "# Selecting a model \n",
    "model = genai.GenerativeModel('gemini-pro')"
   ]
  },
  {
   "cell_type": "code",
   "execution_count": 6,
   "metadata": {},
   "outputs": [
    {
     "data": {
      "text/markdown": [
       "> **Analyze the poem \"Stopping by Woods on a Snowy Evening\" by Robert Frost.**\n",
       "> \n",
       "> In \"Stopping by Woods on a Snowy Evening,\" Robert Frost explores themes of solitude, nature, and mortality. The poem is written in iambic tetrameter and follows an ABAAB rhyme scheme.\n",
       "> \n",
       "> The poem begins with the speaker stopping his horse in the woods on a snowy evening. He describes the scene as \"lovely, dark and deep,\" and he hears the wind in the trees. The speaker is initially drawn to the beauty of the woods, but he soon becomes aware of the darkness and cold. He thinks about the miles he has yet to travel, and he begins to feel a sense of unease.\n",
       "> \n",
       "> In the second stanza, the speaker considers the possibility of staying in the woods. He thinks about how he could build a fire and rest for the night. However, he knows that he must continue on his journey. He tells the horse that he is \"sorry,\" and he climbs back into the sleigh.\n",
       "> \n",
       "> The poem ends with the speaker driving away from the woods. He looks back at the woods and sees that they are \"dark and deep.\" The speaker is left with a sense of longing and regret. He knows that he will never be able to return to the woods, and he is aware of the fact that his own life is coming to an end.\n",
       "> \n",
       "> \"Stopping by Woods on a Snowy Evening\" is a poem about the human experience of mortality. The speaker is confronted with the beauty and the darkness of the world, and he must make a choice between staying in the present moment and continuing on his journey. The poem is a meditation on the inevitability of death, and it is a reminder that we must cherish the time that we have.\n",
       "> \n",
       "> **Here are some additional points that you could discuss in your analysis:**\n",
       "> \n",
       "> * The use of sensory imagery in the poem.\n",
       "> * The symbolism of the woods.\n",
       "> * The speaker's sense of isolation and loneliness.\n",
       "> * The poem's use of irony."
      ],
      "text/plain": [
       "<IPython.core.display.Markdown object>"
      ]
     },
     "execution_count": 6,
     "metadata": {},
     "output_type": "execute_result"
    }
   ],
   "source": [
    "# Write any prompt of your choice\n",
    "response = model.generate_content(\"YOUR PROMPT\")\n",
    "to_markdown(response.text)"
   ]
  },
  {
   "cell_type": "code",
   "execution_count": 7,
   "metadata": {},
   "outputs": [
    {
     "name": "stdout",
     "output_type": "stream",
     "text": [
      "**Analyze the poem \"Stopping by Woods on a Snowy Evening\" by Robert Frost.**\n",
      "\n",
      "In \"Stopping by Woods on a Snowy Evening,\" Robert Frost explores themes of solitude, nature, and mortality. The poem is written in iambic tetrameter and follows an ABAAB rhyme scheme.\n",
      "\n",
      "The poem begins with the speaker stopping his horse in the woods on a snowy evening. He describes the scene as \"lovely, dark and deep,\" and he hears the wind in the trees. The speaker is initially drawn to the beauty of the woods, but he soon becomes aware of the darkness and cold. He thinks about the miles he has yet to travel, and he begins to feel a sense of unease.\n",
      "\n",
      "In the second stanza, the speaker considers the possibility of staying in the woods. He thinks about how he could build a fire and rest for the night. However, he knows that he must continue on his journey. He tells the horse that he is \"sorry,\" and he climbs back into the sleigh.\n",
      "\n",
      "The poem ends with the speaker driving away from the woods. He looks back at the woods and sees that they are \"dark and deep.\" The speaker is left with a sense of longing and regret. He knows that he will never be able to return to the woods, and he is aware of the fact that his own life is coming to an end.\n",
      "\n",
      "\"Stopping by Woods on a Snowy Evening\" is a poem about the human experience of mortality. The speaker is confronted with the beauty and the darkness of the world, and he must make a choice between staying in the present moment and continuing on his journey. The poem is a meditation on the inevitability of death, and it is a reminder that we must cherish the time that we have.\n",
      "\n",
      "**Here are some additional points that you could discuss in your analysis:**\n",
      "\n",
      "* The use of sensory imagery in the poem.\n",
      "* The symbolism of the woods.\n",
      "* The speaker's sense of isolation and loneliness.\n",
      "* The poem's use of irony.\n",
      "________________________________________________________________________________\n"
     ]
    }
   ],
   "source": [
    "for chunk in response:\n",
    "    print(chunk.text)\n",
    "    print(\"_\" * 80)"
   ]
  }
 ],
 "metadata": {
  "kernelspec": {
   "display_name": "venv",
   "language": "python",
   "name": "python3"
  },
  "language_info": {
   "codemirror_mode": {
    "name": "ipython",
    "version": 3
   },
   "file_extension": ".py",
   "mimetype": "text/x-python",
   "name": "python",
   "nbconvert_exporter": "python",
   "pygments_lexer": "ipython3",
   "version": "3.12.6"
  }
 },
 "nbformat": 4,
 "nbformat_minor": 2
}
