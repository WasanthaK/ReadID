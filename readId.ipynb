{
 "cells": [
  {
   "cell_type": "code",
   "execution_count": null,
   "metadata": {},
   "outputs": [
    {
     "ename": "TypeError",
     "evalue": "configure() got an unexpected keyword argument 'GOOGLE_API_KEY'",
     "output_type": "error",
     "traceback": [
      "\u001b[1;31m---------------------------------------------------------------------------\u001b[0m",
      "\u001b[1;31mTypeError\u001b[0m                                 Traceback (most recent call last)",
      "Cell \u001b[1;32mIn[3], line 4\u001b[0m\n\u001b[0;32m      1\u001b[0m \u001b[38;5;28;01mimport\u001b[39;00m \u001b[38;5;21;01mos\u001b[39;00m\n\u001b[0;32m      2\u001b[0m \u001b[38;5;28;01mimport\u001b[39;00m \u001b[38;5;21;01mgoogle\u001b[39;00m\u001b[38;5;21;01m.\u001b[39;00m\u001b[38;5;21;01mgenerativeai\u001b[39;00m \u001b[38;5;28;01mas\u001b[39;00m \u001b[38;5;21;01mgenai\u001b[39;00m\n\u001b[1;32m----> 4\u001b[0m \u001b[43mgenai\u001b[49m\u001b[38;5;241;43m.\u001b[39;49m\u001b[43mconfigure\u001b[49m\u001b[43m(\u001b[49m\u001b[43mGOOGLE_API_KEY\u001b[49m\u001b[43m \u001b[49m\u001b[38;5;241;43m=\u001b[39;49m\u001b[43m \u001b[49m\u001b[43mos\u001b[49m\u001b[38;5;241;43m.\u001b[39;49m\u001b[43mgetenv\u001b[49m\u001b[43m(\u001b[49m\u001b[38;5;124;43m'\u001b[39;49m\u001b[38;5;124;43mGOOGLE_API_KEY\u001b[39;49m\u001b[38;5;124;43m'\u001b[39;49m\u001b[43m)\u001b[49m\u001b[43m)\u001b[49m\n\u001b[0;32m      6\u001b[0m \u001b[38;5;28;01mdef\u001b[39;00m \u001b[38;5;21mupload_to_gemini\u001b[39m(path, mime_type\u001b[38;5;241m=\u001b[39m\u001b[38;5;28;01mNone\u001b[39;00m):\n\u001b[0;32m      7\u001b[0m \u001b[38;5;250m  \u001b[39m\u001b[38;5;124;03m\"\"\"Uploads the given file to Gemini.\u001b[39;00m\n\u001b[0;32m      8\u001b[0m \n\u001b[0;32m      9\u001b[0m \u001b[38;5;124;03m  See https://ai.google.dev/gemini-api/docs/prompting_with_media\u001b[39;00m\n\u001b[0;32m     10\u001b[0m \u001b[38;5;124;03m  \"\"\"\u001b[39;00m\n",
      "\u001b[1;31mTypeError\u001b[0m: configure() got an unexpected keyword argument 'GOOGLE_API_KEY'"
     ]
    }
   ],
   "source": [
    "import os\n",
    "import google.generativeai as genai\n",
    "\n",
    "\n",
    "genai.configure(api_key=os.getenv('GOOGLE_API_KEY'))\n",
    "\n",
    "def upload_to_gemini(path, mime_type=None):\n",
    "  \"\"\"Uploads the given file to Gemini.\n",
    "\n",
    "  See https://ai.google.dev/gemini-api/docs/prompting_with_media\n",
    "  \"\"\"\n",
    "  file = genai.upload_file(path, mime_type=mime_type)\n",
    "  print(f\"Uploaded file '{file.display_name}' as: {file.uri}\")\n",
    "  return file\n",
    "\n",
    "# Create the model\n",
    "generation_config = {\n",
    "  \"temperature\": 1,\n",
    "  \"top_p\": 0.95,\n",
    "  \"top_k\": 40,\n",
    "  \"max_output_tokens\": 8192,\n",
    "  \"response_mime_type\": \"text/plain\",\n",
    "}\n",
    "\n",
    "model = genai.GenerativeModel(\n",
    "  model_name=\"gemini-1.5-pro-002\",\n",
    "  generation_config=generation_config,\n",
    ")\n",
    "\n",
    "# TODO Make these files available on the local file system\n",
    "# You may need to update the file paths\n",
    "files = [\n",
    "  upload_to_gemini(\"\", mime_type=\"image/jpeg\"),\n",
    "]\n",
    "\n",
    "chat_session = model.start_chat(\n",
    "  history=[\n",
    "    {\n",
    "      \"role\": \"user\",\n",
    "      \"parts\": [\n",
    "        files[0],\n",
    "        \"read the ID card. top right is the ID number. When reading read and output in original language. you also can release another data set with Key in English and rest in original language\",\n",
    "      ],\n",
    "    },\n",
    "    {\n",
    "      \"role\": \"model\",\n",
    "      \"parts\": [\n",
    "        \"Here's the information from the ID card, with an English translation:\\n\\n**Original Language**\\n\\n* **គោត្តនាមនិងនាម:** លី សុខហេង\\n* **ថ្ងៃខែឆ្នាំកំណើត:** ១៣.០១.១៩៩០\\n* **ភេទ:** ប្រុស\\n* **កំពស់:** ១៦៩ ស.ម\\n* **ទីកន្លែងកំណើត:** សង្កាត់អូរឫស្សីទី ២ ខណ្ឌ៧មករា ភ្នំពេញ\\n* **អាសយដ្ឋានៈ** ផ្ទះ៧៦អី១ ផ្លូវ១៦៤ ភូមិ ១ សង្កាត់អូរឫស្សីទី ២ ខណ្ឌ៧មករា ភ្នំពេញ\\n* **សុពលភាព:** ១៧.០៩.២០១៥ ដល់ថ្ងៃ ១៦.០៩.២០២៥\\n* **និនភាគ:** ប្រជ្រុយចំ១,៥ ស.ម មុខក្រោមចុងភ្នែកស្តាំ\\n* **លេខសម្គាល់:** 010668124 (01)\\n\\n**English Translation with Original Language Data**\\n\\n* **Family Name and Given Name:** លី សុខហេង (Ly Sokheng)\\n* **Date of Birth:** ១៣.០១.១៩៩០ (13.01.1990)\\n* **Sex:** ប្រុស (Male)\\n* **Height:** ១៦៩ ស.ម (169 cm)\\n* **Place of Birth:** សង្កាត់អូរឫស្សីទី ២ ខណ្ឌ៧មករា ភ្នំពេញ (Ou Ruessei 2 Commune, 7 Makara District, Phnom Penh)\\n* **Address:** ផ្ទះ៧៦អី១ ផ្លូវ១៦៤ ភូមិ ១ សង្កាត់អូរឫស្សីទី ២ ខណ្ឌ៧មករា ភ្នំពេញ (House 76E1, Street 164, Village 1, Ou Ruessei 2 Commune, 7 Makara District, Phnom Penh)\\n* **Validity:** ១៧.០៩.២០១៥ ដល់ថ្ងៃ ១៦.០៩.២០២៥ (17.09.2015 to 16.09.2025)\\n* **Distinguishing Marks:** ប្រជ្រុយចំ១,៥ ស.ម មុខក្រោមចុងភ្នែកស្តាំ (Mole 1.5cm under the right eye)\\n* **ID Number:** 010668124 (01)\\n\\n\\n\\nThe machine-readable zone at the bottom appears to be partially corrupted, but does include parts of the ID number and name.\\n\",\n",
    "      ],\n",
    "    },\n",
    "  ]\n",
    ")\n",
    "\n",
    "response = chat_session.send_message(\"INSERT_INPUT_HERE\")\n",
    "\n",
    "print(response.text)"
   ]
  }
 ],
 "metadata": {
  "kernelspec": {
   "display_name": "venv",
   "language": "python",
   "name": "python3"
  },
  "language_info": {
   "codemirror_mode": {
    "name": "ipython",
    "version": 3
   },
   "file_extension": ".py",
   "mimetype": "text/x-python",
   "name": "python",
   "nbconvert_exporter": "python",
   "pygments_lexer": "ipython3",
   "version": "3.12.6"
  }
 },
 "nbformat": 4,
 "nbformat_minor": 2
}
